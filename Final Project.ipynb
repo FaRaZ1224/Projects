{
 "cells": [
  {
   "cell_type": "code",
   "execution_count": 6,
   "id": "930f6736",
   "metadata": {},
   "outputs": [
    {
     "name": "stderr",
     "output_type": "stream",
     "text": [
      "[nltk_data] Downloading package vader_lexicon to\n",
      "[nltk_data]     /Users/arjungopalamin/nltk_data...\n",
      "[nltk_data]   Package vader_lexicon is already up-to-date!\n"
     ]
    },
    {
     "name": "stdout",
     "output_type": "stream",
     "text": [
      "                  Date                  Headline\n",
      "0    Mar-17-23 05:17PM  YouTube Restores Dona...\n",
      "1              05:05PM  Former Pres . Trump r...\n",
      "2              01:21PM  Meta pushing metavers...\n",
      "3              10:18AM  YouTube TV raises mon...\n",
      "4              09:14AM  Analyst Report : Alph...\n",
      "..                 ...                       ...\n",
      "98             02:53PM  Uber , Spurred Hardwa...\n",
      "99             10:19AM  Super Bowl LVII : The...\n",
      "100            08:32AM  Amazon , Microsoft , ...\n",
      "101            08:03AM  Uber Signs Cloud Deal...\n",
      "102  Feb-11-23 11:15AM  Big Oil raked record ...\n",
      "\n",
      "[103 rows x 2 columns]\n",
      "Average Sentiment Score for GOOG: 0.04321359223300974\n",
      "                  Date                  Headline\n",
      "0    Mar-17-23 04:54PM  Best FAANG Stock Buy ...\n",
      "1              04:35PM  Four Reasons Why Self...\n",
      "2              12:05PM  37 Mistakes We Make W...\n",
      "3              09:25AM  2 Stocks That Could J...\n",
      "4              08:00AM  Could Shopify Really ...\n",
      "..                 ...                       ...\n",
      "98   Mar-09-23 08:00PM  Oscars 2023 : Streami...\n",
      "99             02:33PM  Amazon , Alphabet , O...\n",
      "100            10:00AM  Walmart Chips Away Am...\n",
      "101            09:50AM  A Bull Market Is Comi...\n",
      "102            09:45AM  Better Buy : Amazon S...\n",
      "\n",
      "[103 rows x 2 columns]\n",
      "Average Sentiment Score for AMZN: 0.026985436893203894\n"
     ]
    }
   ],
   "source": [
    "import pandas as pd\n",
    "import nltk\n",
    "from bs4 import BeautifulSoup as soup\n",
    "import matplotlib.pyplot as plt\n",
    "from urllib.request import urlopen\n",
    "from urllib.request import Request\n",
    "from nltk.sentiment.vader import SentimentIntensityAnalyzer\n",
    "nltk.download('vader_lexicon')\n",
    "from nltk.corpus import stopwords\n",
    "from nltk.tokenize import word_tokenize\n",
    "\n",
    "pd.set_option('display.max_colwidth', 25)\n",
    "\n",
    "def get_news():\n",
    "    try:\n",
    "        # Find news table\n",
    "        news = pd.read_html(str(html), attrs = {'class': 'fullview-news-outer'})[0]\n",
    "        links = []\n",
    "        for a in html.find_all('a', class_=\"tab-link-news\"):\n",
    "            links.append(a['href'])\n",
    "        \n",
    "        # Clean up news dataframe\n",
    "        news.columns = ['Date', 'Headline']\n",
    "#        news['Article Link'] = links\n",
    "#        news = news.set_index('Date')\n",
    "        return news\n",
    "\n",
    "    except Exception as e:\n",
    "        return e\n",
    "\n",
    "def remove_stopwords(news_df):\n",
    "    stop_words = set(stopwords.words('english'))\n",
    "    for ind in range(0,len(news_df.index)):\n",
    "        word_tokens = word_tokenize(news_df['Headline'][ind])\n",
    "        filtered_sentence = []\n",
    "        \n",
    "        for w in word_tokens:\n",
    "            if w not in stop_words:\n",
    "                filtered_sentence.append(w)\n",
    "        new_string = ' '.join(filtered_sentence)\n",
    "        news_df['Headline'][ind] = new_string\n",
    "    \n",
    "sentiment_score_dict = {}\n",
    "\n",
    "# Input\n",
    "symbol = ['GOOG','AMZN']\n",
    "\n",
    "# Set up scraper\n",
    "for i in range(0,len(symbol)):\n",
    "    url = (\"http://finviz.com/quote.ashx?t=\" + symbol[i].lower())\n",
    "    req = Request(url, headers={'User-Agent': 'Mozilla/5.0'})\n",
    "    webpage = urlopen(req).read()\n",
    "    html = soup(webpage, \"html.parser\")\n",
    "    \n",
    "    news = get_news()\n",
    "    remove_stopwords(news)\n",
    "    print(news)\n",
    "    analyzer = SentimentIntensityAnalyzer()\n",
    "    scores = news['Headline'].apply(analyzer.polarity_scores).tolist()\n",
    "    df_scores = pd.DataFrame(scores)\n",
    "    news = news.join(df_scores, rsuffix='_right')\n",
    "    sentiment_score = sum(news['compound'])/len(news['compound'])\n",
    "    sentiment_score_dict[symbol[i]] = sentiment_score\n",
    "    print('Average Sentiment Score for '+str(symbol[i])+': '+str(sentiment_score))"
   ]
  },
  {
   "cell_type": "code",
   "execution_count": 85,
   "id": "31b422e0",
   "metadata": {},
   "outputs": [
    {
     "name": "stdout",
     "output_type": "stream",
     "text": [
      "{'GOOG': 0.04631650485436895, 'TSLA': -0.015276699029126213, 'AAPL': 0.023495145631067964, 'SPY': 0.12408446601941747, 'SI': -0.1463669902912621, 'BIRD': -0.0655495145631068}\n"
     ]
    }
   ],
   "source": [
    "print(sentiment_score_dict)"
   ]
  },
  {
   "cell_type": "code",
   "execution_count": 86,
   "id": "930b2d2a",
   "metadata": {},
   "outputs": [],
   "source": [
    "sentiment_score_df = pd.DataFrame.from_dict(sentiment_score_dict,orient = 'index')"
   ]
  },
  {
   "cell_type": "code",
   "execution_count": 87,
   "id": "ae098ed5",
   "metadata": {},
   "outputs": [
    {
     "name": "stdout",
     "output_type": "stream",
     "text": [
      "      Ticker Name\n",
      "GOOG     0.046317\n",
      "TSLA    -0.015277\n",
      "AAPL     0.023495\n",
      "SPY      0.124084\n",
      "SI      -0.146367\n",
      "BIRD    -0.065550\n"
     ]
    }
   ],
   "source": [
    "sentiment_score_df.columns = ['Ticker Name']\n",
    "print(sentiment_score_df)"
   ]
  },
  {
   "cell_type": "code",
   "execution_count": null,
   "id": "738df1e0",
   "metadata": {},
   "outputs": [],
   "source": [
    "#Displaying Findings"
   ]
  },
  {
   "cell_type": "code",
   "execution_count": 89,
   "id": "e6f70958",
   "metadata": {},
   "outputs": [
    {
     "data": {
      "image/png": "[encoded data removed]",
      "text/plain": [
       "<Figure size 640x480 with 1 Axes>"
      ]
     },
     "metadata": {},
     "output_type": "display_data"
    }
   ],
   "source": [
    "chart = sentiment_score_df.plot.bar()"
   ]
  },
  {
   "cell_type": "code",
   "execution_count": null,
   "id": "980377b2",
   "metadata": {},
   "outputs": [],
   "source": []
  }
 ],
 "metadata": {
  "kernelspec": {
   "display_name": "Python 3 (ipykernel)",
   "language": "python",
   "name": "python3"
  },
  "language_info": {
   "codemirror_mode": {
    "name": "ipython",
    "version": 3
   },
   "file_extension": ".py",
   "mimetype": "text/x-python",
   "name": "python",
   "nbconvert_exporter": "python",
   "pygments_lexer": "ipython3",
   "version": "3.9.13"
  }
 },
 "nbformat": 4,
 "nbformat_minor": 5
}
